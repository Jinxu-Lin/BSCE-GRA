{
  "cells": [
    {
      "cell_type": "markdown",
      "metadata": {
        "id": "OgngvunjJlMo"
      },
      "source": [
        "Generated partially with ChatGPT (chat.openai.com).\n"
      ]
    },
    {
      "cell_type": "code",
      "execution_count": 1,
      "metadata": {
        "id": "d865RY5uHWNZ"
      },
      "outputs": [],
      "source": [
        "import gc\n",
        "import torch\n",
        "import torch.nn as nn\n",
        "import torch.optim as optim\n",
        "import torch.nn.functional as F\n",
        "from torch.utils.data import Dataset, DataLoader\n",
        "import numpy as np\n",
        "import random\n",
        "from tqdm import tqdm\n",
        "import matplotlib.pyplot as plt\n",
        "from scipy.stats import multivariate_normal\n",
        "import os\n",
        "os.environ[\"CUDA_VISIBLE_DEVICES\"] = \"0\"\n"
      ]
    },
    {
      "cell_type": "code",
      "execution_count": 2,
      "metadata": {
        "id": "_4Pm4zHPISDZ"
      },
      "outputs": [],
      "source": [
        "# Define a custom dataset\n",
        "class CustomDataset(Dataset):\n",
        "    def __init__(self, data, labels):\n",
        "        self.data = data\n",
        "        self.labels = labels\n",
        "\n",
        "    def __len__(self):\n",
        "        return len(self.data)\n",
        "\n",
        "    def __getitem__(self, idx):\n",
        "        return self.data[idx], self.labels[idx]\n",
        "\n",
        "\n",
        "# Define the dataset\n",
        "class MoGData(object):\n",
        "  def __init__(self, dimension=2, num_classes=2, magnitude=10):\n",
        "    # Define the parameters for the two Gaussian distributions\n",
        "    self.dimension = dimension\n",
        "    self.num_classes = num_classes\n",
        "    self.magnitude = magnitude\n",
        "    self.mu = np.zeros((num_classes, dimension))\n",
        "    self.sigma = np.zeros((num_classes, dimension, dimension))\n",
        "    self.distrib = []\n",
        "\n",
        "    for i in range(num_classes):\n",
        "      for j in range(dimension):\n",
        "        self.mu[i, j] = np.random.uniform(-self.magnitude, self.magnitude)\n",
        "      # Identity matrix for variance\n",
        "      self.sigma[i] = np.eye(dimension)  \n",
        "      self.distrib.append(multivariate_normal(mean=self.mu[i], cov=self.sigma[i]))\n",
        "\n",
        "  def sample_data(self, num_samples = 10000):\n",
        "    # Generate samples from the two Gaussian distributions\n",
        "    samples = []\n",
        "    for i in range(self.num_classes):\n",
        "      samples.append(np.random.multivariate_normal(self.mu[i], self.sigma[i], num_samples))\n",
        "\n",
        "    # Combine the samples and create labels\n",
        "    data = np.concatenate(samples).astype(np.float32)\n",
        "    labels = np.concatenate([[i]*num_samples for i in range(self.num_classes)]).astype(int)\n",
        "\n",
        "    # Shuffle the data and labels together\n",
        "    combined = list(zip(data, labels))\n",
        "    data[:], labels[:] = zip(*combined)\n",
        "    return data, labels\n",
        "  \n",
        "  def plot(self, num_samples):\n",
        "    data, labels = self.sample_data(num_samples)\n",
        "    fig = plt.figure()\n",
        "    \n",
        "    if self.dimension == 3:\n",
        "      ax = fig.add_subplot(111, projection='3d')\n",
        "      for i in range(self.num_classes):\n",
        "        samples = data[labels==i]\n",
        "        color = np.random.rand(3)\n",
        "        ax.scatter(samples[:, 0], samples[:, 1], samples[:, 2], c=[color], label='class '+str(i), alpha=0.05)\n",
        "      plt.legend()\n",
        "      plt.show()\n",
        "    elif self.dimension == 2:\n",
        "      for i in range(self.num_classes):\n",
        "        samples = data[labels==i]\n",
        "        color = np.random.rand(3)\n",
        "        plt.scatter(samples[:, 0], samples[:, 1], c=color, label='class '+str(i), alpha=0.05)\n",
        "      plt.legend()\n",
        "      plt.show()\n",
        "    else:\n",
        "      print(\"Dimension not supported\")\n",
        "\n",
        "  def compute_likelihood_ratio(self, labels, data_points):\n",
        "    \"\"\"p(y=0|x), assuming p(y=0)=p(y=1)=0.5\"\"\"\n",
        "    # 计算所有数据点在每个类别分布下的pdf值\n",
        "    distances = np.array([self.distrib[j].pdf(data_points) for j in range(self.num_classes)]).T\n",
        "    \n",
        "    # 获取每个数据点对应类别的pdf值\n",
        "    gt_probs = distances[np.arange(data_points.shape[0]), labels] / distances.sum(axis=1)\n",
        "    \n",
        "    return gt_probs"
      ]
    },
    {
      "cell_type": "code",
      "execution_count": 3,
      "metadata": {},
      "outputs": [],
      "source": [
        "def set_seed(seed):\n",
        "  torch.manual_seed(seed)\n",
        "  torch.cuda.manual_seed(seed)\n",
        "  torch.cuda.manual_seed_all(seed)\n",
        "  torch.backends.cudnn.deterministic = True\n",
        "  torch.backends.cudnn.benchmark = False\n",
        "  np.random.seed(seed)\n",
        "  random.seed(seed)"
      ]
    },
    {
      "cell_type": "code",
      "execution_count": 4,
      "metadata": {},
      "outputs": [],
      "source": [
        "# Dataset Initialization\n",
        "\n",
        "seed = 18222\n",
        "set_seed(seed)\n",
        "\n",
        "num_samples = 1000\n",
        "batch_size = 1000\n",
        "dimension = 2\n",
        "num_classes = 500\n",
        "magnitude = 10\n",
        "\n",
        "mog_data = MoGData(dimension=dimension, num_classes=num_classes, magnitude=magnitude)\n",
        "# mog_data.plot(num_samples=3000)\n",
        "train_loader = DataLoader(CustomDataset(*mog_data.sample_data(num_samples=num_samples)),\n",
        "                          batch_size=batch_size,\n",
        "                          shuffle=True)\n",
        "# generate a test dataset from the distribution\n",
        "test_data, test_labels = mog_data.sample_data(num_samples=1000)\n",
        "test_gt_probs = mog_data.compute_likelihood_ratio(test_labels, test_data)\n",
        "test_labels = torch.from_numpy(test_labels).long().cuda()\n",
        "test_gt_probs = torch.from_numpy(test_gt_probs).cuda()\n",
        "\n",
        "test_data_tensor = torch.from_numpy(test_data).cuda()"
      ]
    },
    {
      "cell_type": "code",
      "execution_count": 5,
      "metadata": {},
      "outputs": [],
      "source": [
        "# Define the DNN model\n",
        "class DNN(nn.Module):\n",
        "    def __init__(self, input_size, hidden_size, num_classes):\n",
        "        super(DNN, self).__init__()\n",
        "        self.fc1 = nn.Linear(input_size, hidden_size)\n",
        "        self.relu = nn.ReLU()\n",
        "        self.fc2 = nn.Linear(hidden_size, num_classes)\n",
        "\n",
        "    def forward(self, x):\n",
        "        out = self.fc1(x)\n",
        "        out = self.relu(out)\n",
        "        out = self.fc2(out)\n",
        "        return out"
      ]
    },
    {
      "cell_type": "code",
      "execution_count": 6,
      "metadata": {},
      "outputs": [],
      "source": [
        "# Define custom loss functions\n",
        "class CrossEntropy(nn.Module):\n",
        "    def __init__(self):\n",
        "        super(CrossEntropy, self).__init__()\n",
        "\n",
        "    def forward(self, input, target):\n",
        "\n",
        "        target = target.view(-1, 1)\n",
        "        logpt = F.log_softmax(input, dim=1)\n",
        "        logpt = logpt.gather(1, target)\n",
        "        logpt = logpt.view(-1)\n",
        "        loss = -1 * logpt\n",
        "\n",
        "        return loss.mean()\n",
        "    \n",
        "\n",
        "class FocalLoss(nn.Module):\n",
        "    def __init__(self, gamma=2):\n",
        "        super(FocalLoss, self).__init__()\n",
        "        self.gamma = gamma\n",
        "    def forward(self, input, target):\n",
        "\n",
        "        target = target.view(-1,1)\n",
        "        logpt = F.log_softmax(input, dim=1)\n",
        "        logpt = logpt.gather(1,target)\n",
        "        logpt = logpt.view(-1)\n",
        "\n",
        "        pt = logpt.exp()\n",
        "\n",
        "        # Get the correct class probability\n",
        "        # Eg if target is 0, gt_prob is prob(0) = |0 - prob(0)|\n",
        "        # If target is 1, gt_prob is prob(1) = |1 - prob(0)|\n",
        "        # gt_prob = (target-gt_prob).abs()\n",
        "\n",
        "        weight = (1 - pt).abs()**self.gamma\n",
        "        # weight = (1-pt)**self.gamma\n",
        "        \n",
        "        loss = -1 * weight * logpt\n",
        "\n",
        "        return loss.mean()\n",
        "\n",
        "\n",
        "class CrossEntropyProb(nn.Module):\n",
        "    def __init__(self, gamma=2):\n",
        "        super(CrossEntropyProb, self).__init__()\n",
        "        self.gamma = gamma\n",
        "    def forward(self, input, target, gt_prob):\n",
        "\n",
        "        target = target.view(-1,1)\n",
        "        logpt = F.log_softmax(input, dim=1)\n",
        "        logpt = logpt.gather(1,target)\n",
        "        logpt = logpt.view(-1)\n",
        "\n",
        "        pt = logpt.exp()\n",
        "\n",
        "        # Get the correct class probability\n",
        "        # Eg if target is 0, gt_prob is prob(0) = |0 - prob(0)|\n",
        "        # If target is 1, gt_prob is prob(1) = |1 - prob(0)|\n",
        "        # gt_prob = (target-gt_prob).abs()\n",
        "\n",
        "        weight = (gt_prob - pt).abs()**self.gamma\n",
        "        # weight = (1-pt)**self.gamma\n",
        "        \n",
        "        loss = -1 * weight * logpt\n",
        "\n",
        "        return loss.mean()"
      ]
    },
    {
      "cell_type": "code",
      "execution_count": 9,
      "metadata": {
        "colab": {
          "base_uri": "https://localhost:8080/",
          "height": 354
        },
        "id": "q2W3kjyfHzfd",
        "outputId": "abe5fb16-95cc-4e8f-992a-862a8abd2bd7"
      },
      "outputs": [
        {
          "name": "stderr",
          "output_type": "stream",
          "text": [
            "100%|██████████| 500/500 [00:00<00:00, 641.83it/s]\n"
          ]
        },
        {
          "name": "stdout",
          "output_type": "stream",
          "text": [
            "Cross Entropy Consistency:  0.07686156203254142\n"
          ]
        }
      ],
      "source": [
        "learning_rate = 1\n",
        "\n",
        "# Training the model with cross entropy loss\n",
        "model_ce = DNN(dimension, 10, num_classes).cuda()  # Move model to GPU\n",
        "ce = CrossEntropy().cuda()  # Move loss function to GPU\n",
        "optimizer_ce = optim.SGD(model_ce.parameters(), lr=learning_rate)\n",
        "pbar_ce = tqdm(total=len(train_loader))\n",
        "\n",
        "for i, (inputs, labels) in enumerate(train_loader):\n",
        "  inputs, labels = inputs.cuda(), labels.cuda()  # Move data to GPU\n",
        "  optimizer_ce.zero_grad()\n",
        "  outputs = model_ce(inputs)\n",
        "  loss_ce = ce(outputs, labels)\n",
        "  loss_ce.backward()\n",
        "  optimizer_ce.step()\n",
        "  pbar_ce.update(1)\n",
        "pbar_ce.close()\n",
        "\n",
        "test_outputs_ce = model_ce(test_data_tensor)\n",
        "prob_ce = F.softmax(test_outputs_ce, dim=1)\n",
        "consistency_ce = test_gt_probs - prob_ce[:, 0]\n",
        "print(\"Cross Entropy Consistency: \", consistency_ce.abs().mean().item())\n",
        "\n",
        "# 假设你的模型变量名是 model\n",
        "del model_ce, ce, inputs, labels, outputs, loss_ce, test_outputs_ce, prob_ce, consistency_ce, optimizer_ce, pbar_ce\n",
        "\n",
        "# 强制进行垃圾回收\n",
        "gc.collect()\n",
        "\n",
        "# 清空 CUDA 缓存\n",
        "torch.cuda.empty_cache()"
      ]
    },
    {
      "cell_type": "code",
      "execution_count": 11,
      "metadata": {},
      "outputs": [
        {
          "name": "stderr",
          "output_type": "stream",
          "text": [
            "  0%|          | 0/500 [00:14<?, ?it/s]\n",
            "100%|██████████| 500/500 [00:00<00:00, 515.54it/s]\n"
          ]
        },
        {
          "name": "stdout",
          "output_type": "stream",
          "text": [
            "Focal Loss Consistency:  0.07503033895370594\n"
          ]
        }
      ],
      "source": [
        "# Training the model with cross entropy loss\n",
        "gamma = 2\n",
        "model_fl = DNN(dimension, 10, num_classes).cuda()  # Move model to GPU\n",
        "fl = FocalLoss(gamma=gamma).cuda()  # Move loss function to GPU\n",
        "optimizer_fl = optim.SGD(model_fl.parameters(), lr=learning_rate)\n",
        "pbar_fl = tqdm(total=len(train_loader))\n",
        "\n",
        "for i, (inputs, labels) in enumerate(train_loader):\n",
        "  inputs, labels = inputs.cuda(), labels.cuda()  # Move data to GPU\n",
        "  optimizer_fl.zero_grad()\n",
        "  outputs = model_fl(inputs)\n",
        "  loss_fl = fl(outputs, labels)\n",
        "  loss_fl.backward()\n",
        "  optimizer_fl.step()\n",
        "  pbar_fl.update(1)\n",
        "pbar_fl.close()\n",
        "\n",
        "test_outputs_fl = model_fl(test_data_tensor)\n",
        "prob_fl = F.softmax(test_outputs_fl, dim=1)\n",
        "consistency_fl = test_gt_probs - prob_fl[:, 0]\n",
        "print(\"Focal Loss Consistency: \", consistency_fl.abs().mean().item())\n",
        "\n",
        "del model_fl, fl, inputs, labels, outputs, loss_fl, test_outputs_fl, prob_fl, consistency_fl, optimizer_fl, pbar_fl\n",
        "gc.collect()\n",
        "torch.cuda.empty_cache()"
      ]
    },
    {
      "cell_type": "code",
      "execution_count": 15,
      "metadata": {},
      "outputs": [
        {
          "name": "stderr",
          "output_type": "stream",
          "text": [
            "  0%|          | 0/500 [00:00<?, ?it/s]"
          ]
        },
        {
          "name": "stderr",
          "output_type": "stream",
          "text": [
            "100%|██████████| 500/500 [00:06<00:00, 76.54it/s]\n"
          ]
        },
        {
          "name": "stdout",
          "output_type": "stream",
          "text": [
            "gamma:  1.0 Cross Entropy Probability Consistency:  0.0759098264715272\n"
          ]
        },
        {
          "name": "stderr",
          "output_type": "stream",
          "text": [
            "100%|██████████| 500/500 [00:06<00:00, 76.73it/s]\n"
          ]
        },
        {
          "name": "stdout",
          "output_type": "stream",
          "text": [
            "gamma:  1.1 Cross Entropy Probability Consistency:  0.0747970515431964\n"
          ]
        },
        {
          "name": "stderr",
          "output_type": "stream",
          "text": [
            "100%|██████████| 500/500 [00:06<00:00, 76.38it/s]\n"
          ]
        },
        {
          "name": "stdout",
          "output_type": "stream",
          "text": [
            "gamma:  1.2000000000000002 Cross Entropy Probability Consistency:  0.07255845257146445\n"
          ]
        },
        {
          "name": "stderr",
          "output_type": "stream",
          "text": [
            "100%|██████████| 500/500 [00:06<00:00, 76.56it/s]\n"
          ]
        },
        {
          "name": "stdout",
          "output_type": "stream",
          "text": [
            "gamma:  1.3000000000000003 Cross Entropy Probability Consistency:  0.07490069594633095\n"
          ]
        },
        {
          "name": "stderr",
          "output_type": "stream",
          "text": [
            "100%|██████████| 500/500 [00:06<00:00, 76.67it/s]\n"
          ]
        },
        {
          "name": "stdout",
          "output_type": "stream",
          "text": [
            "gamma:  1.4000000000000004 Cross Entropy Probability Consistency:  0.0743549317135062\n"
          ]
        },
        {
          "name": "stderr",
          "output_type": "stream",
          "text": [
            "100%|██████████| 500/500 [00:06<00:00, 76.59it/s]\n"
          ]
        },
        {
          "name": "stdout",
          "output_type": "stream",
          "text": [
            "gamma:  1.5000000000000004 Cross Entropy Probability Consistency:  0.07506730857238199\n"
          ]
        },
        {
          "name": "stderr",
          "output_type": "stream",
          "text": [
            "100%|██████████| 500/500 [00:06<00:00, 76.67it/s]\n"
          ]
        },
        {
          "name": "stdout",
          "output_type": "stream",
          "text": [
            "gamma:  1.6000000000000005 Cross Entropy Probability Consistency:  0.0749354984678932\n"
          ]
        },
        {
          "name": "stderr",
          "output_type": "stream",
          "text": [
            "100%|██████████| 500/500 [00:06<00:00, 76.72it/s]\n"
          ]
        },
        {
          "name": "stdout",
          "output_type": "stream",
          "text": [
            "gamma:  1.7000000000000006 Cross Entropy Probability Consistency:  0.07388436951755689\n"
          ]
        },
        {
          "name": "stderr",
          "output_type": "stream",
          "text": [
            "100%|██████████| 500/500 [00:06<00:00, 76.66it/s]\n"
          ]
        },
        {
          "name": "stdout",
          "output_type": "stream",
          "text": [
            "gamma:  1.8000000000000007 Cross Entropy Probability Consistency:  0.07437734617510743\n"
          ]
        },
        {
          "name": "stderr",
          "output_type": "stream",
          "text": [
            "100%|██████████| 500/500 [00:06<00:00, 76.62it/s]\n"
          ]
        },
        {
          "name": "stdout",
          "output_type": "stream",
          "text": [
            "gamma:  1.9000000000000008 Cross Entropy Probability Consistency:  0.07543709890015898\n"
          ]
        },
        {
          "name": "stderr",
          "output_type": "stream",
          "text": [
            "100%|██████████| 500/500 [00:06<00:00, 76.60it/s]\n"
          ]
        },
        {
          "name": "stdout",
          "output_type": "stream",
          "text": [
            "gamma:  2.000000000000001 Cross Entropy Probability Consistency:  0.07272715514695373\n"
          ]
        },
        {
          "name": "stderr",
          "output_type": "stream",
          "text": [
            "100%|██████████| 500/500 [00:06<00:00, 76.73it/s]\n"
          ]
        },
        {
          "name": "stdout",
          "output_type": "stream",
          "text": [
            "gamma:  2.100000000000001 Cross Entropy Probability Consistency:  0.07491578224123527\n"
          ]
        },
        {
          "name": "stderr",
          "output_type": "stream",
          "text": [
            "100%|██████████| 500/500 [00:06<00:00, 76.58it/s]\n"
          ]
        },
        {
          "name": "stdout",
          "output_type": "stream",
          "text": [
            "gamma:  2.200000000000001 Cross Entropy Probability Consistency:  0.07397359972762983\n"
          ]
        },
        {
          "name": "stderr",
          "output_type": "stream",
          "text": [
            "100%|██████████| 500/500 [00:06<00:00, 76.68it/s]\n"
          ]
        },
        {
          "name": "stdout",
          "output_type": "stream",
          "text": [
            "gamma:  2.300000000000001 Cross Entropy Probability Consistency:  0.07507375907772701\n"
          ]
        },
        {
          "name": "stderr",
          "output_type": "stream",
          "text": [
            "100%|██████████| 500/500 [00:06<00:00, 76.61it/s]\n"
          ]
        },
        {
          "name": "stdout",
          "output_type": "stream",
          "text": [
            "gamma:  2.4000000000000012 Cross Entropy Probability Consistency:  0.07360404147288944\n"
          ]
        },
        {
          "name": "stderr",
          "output_type": "stream",
          "text": [
            "100%|██████████| 500/500 [00:06<00:00, 76.59it/s]\n"
          ]
        },
        {
          "name": "stdout",
          "output_type": "stream",
          "text": [
            "gamma:  2.5000000000000013 Cross Entropy Probability Consistency:  0.07536899002239891\n"
          ]
        },
        {
          "name": "stderr",
          "output_type": "stream",
          "text": [
            "100%|██████████| 500/500 [00:06<00:00, 76.46it/s]\n"
          ]
        },
        {
          "name": "stdout",
          "output_type": "stream",
          "text": [
            "gamma:  2.6000000000000014 Cross Entropy Probability Consistency:  0.0740979189241868\n"
          ]
        },
        {
          "name": "stderr",
          "output_type": "stream",
          "text": [
            "100%|██████████| 500/500 [00:06<00:00, 76.55it/s]\n"
          ]
        },
        {
          "name": "stdout",
          "output_type": "stream",
          "text": [
            "gamma:  2.7000000000000015 Cross Entropy Probability Consistency:  0.07571543997187996\n"
          ]
        },
        {
          "name": "stderr",
          "output_type": "stream",
          "text": [
            "100%|██████████| 500/500 [00:06<00:00, 76.73it/s]\n"
          ]
        },
        {
          "name": "stdout",
          "output_type": "stream",
          "text": [
            "gamma:  2.8000000000000016 Cross Entropy Probability Consistency:  0.07471370497664212\n"
          ]
        },
        {
          "name": "stderr",
          "output_type": "stream",
          "text": [
            "100%|██████████| 500/500 [00:06<00:00, 76.63it/s]\n"
          ]
        },
        {
          "name": "stdout",
          "output_type": "stream",
          "text": [
            "gamma:  2.9000000000000017 Cross Entropy Probability Consistency:  0.07559540599661191\n"
          ]
        },
        {
          "name": "stderr",
          "output_type": "stream",
          "text": [
            "100%|██████████| 500/500 [00:06<00:00, 76.62it/s]\n"
          ]
        },
        {
          "name": "stdout",
          "output_type": "stream",
          "text": [
            "gamma:  3.0000000000000018 Cross Entropy Probability Consistency:  0.07604391071490538\n"
          ]
        },
        {
          "name": "stderr",
          "output_type": "stream",
          "text": [
            "100%|██████████| 500/500 [00:06<00:00, 76.70it/s]\n"
          ]
        },
        {
          "name": "stdout",
          "output_type": "stream",
          "text": [
            "gamma:  3.100000000000002 Cross Entropy Probability Consistency:  0.07387173638305548\n"
          ]
        },
        {
          "name": "stderr",
          "output_type": "stream",
          "text": [
            "100%|██████████| 500/500 [00:06<00:00, 76.64it/s]\n"
          ]
        },
        {
          "name": "stdout",
          "output_type": "stream",
          "text": [
            "gamma:  3.200000000000002 Cross Entropy Probability Consistency:  0.07560908276795875\n"
          ]
        },
        {
          "name": "stderr",
          "output_type": "stream",
          "text": [
            "100%|██████████| 500/500 [00:06<00:00, 76.48it/s]\n"
          ]
        },
        {
          "name": "stdout",
          "output_type": "stream",
          "text": [
            "gamma:  3.300000000000002 Cross Entropy Probability Consistency:  0.07444379715508616\n"
          ]
        },
        {
          "name": "stderr",
          "output_type": "stream",
          "text": [
            "100%|██████████| 500/500 [00:06<00:00, 76.69it/s]\n"
          ]
        },
        {
          "name": "stdout",
          "output_type": "stream",
          "text": [
            "gamma:  3.400000000000002 Cross Entropy Probability Consistency:  0.0748191119026143\n"
          ]
        },
        {
          "name": "stderr",
          "output_type": "stream",
          "text": [
            "100%|██████████| 500/500 [00:06<00:00, 76.67it/s]\n"
          ]
        },
        {
          "name": "stdout",
          "output_type": "stream",
          "text": [
            "gamma:  3.500000000000002 Cross Entropy Probability Consistency:  0.07280986667211749\n"
          ]
        },
        {
          "name": "stderr",
          "output_type": "stream",
          "text": [
            "100%|██████████| 500/500 [00:06<00:00, 76.80it/s]\n"
          ]
        },
        {
          "name": "stdout",
          "output_type": "stream",
          "text": [
            "gamma:  3.6000000000000023 Cross Entropy Probability Consistency:  0.07509919960175719\n"
          ]
        },
        {
          "name": "stderr",
          "output_type": "stream",
          "text": [
            "100%|██████████| 500/500 [00:06<00:00, 76.52it/s]\n"
          ]
        },
        {
          "name": "stdout",
          "output_type": "stream",
          "text": [
            "gamma:  3.7000000000000024 Cross Entropy Probability Consistency:  0.07542294068934387\n"
          ]
        },
        {
          "name": "stderr",
          "output_type": "stream",
          "text": [
            "100%|██████████| 500/500 [00:06<00:00, 76.76it/s]\n"
          ]
        },
        {
          "name": "stdout",
          "output_type": "stream",
          "text": [
            "gamma:  3.8000000000000025 Cross Entropy Probability Consistency:  0.0747686993129624\n"
          ]
        },
        {
          "name": "stderr",
          "output_type": "stream",
          "text": [
            "100%|██████████| 500/500 [00:06<00:00, 76.69it/s]\n"
          ]
        },
        {
          "name": "stdout",
          "output_type": "stream",
          "text": [
            "gamma:  3.9000000000000026 Cross Entropy Probability Consistency:  0.07492487352001727\n"
          ]
        },
        {
          "name": "stderr",
          "output_type": "stream",
          "text": [
            "100%|██████████| 500/500 [00:06<00:00, 76.57it/s]\n"
          ]
        },
        {
          "name": "stdout",
          "output_type": "stream",
          "text": [
            "gamma:  4.000000000000003 Cross Entropy Probability Consistency:  0.07572787398669638\n"
          ]
        },
        {
          "name": "stderr",
          "output_type": "stream",
          "text": [
            "100%|██████████| 500/500 [00:06<00:00, 76.78it/s]\n"
          ]
        },
        {
          "name": "stdout",
          "output_type": "stream",
          "text": [
            "gamma:  4.100000000000003 Cross Entropy Probability Consistency:  0.07594691284849124\n"
          ]
        },
        {
          "name": "stderr",
          "output_type": "stream",
          "text": [
            "100%|██████████| 500/500 [00:06<00:00, 76.79it/s]\n"
          ]
        },
        {
          "name": "stdout",
          "output_type": "stream",
          "text": [
            "gamma:  4.200000000000003 Cross Entropy Probability Consistency:  0.07287877436618907\n"
          ]
        },
        {
          "name": "stderr",
          "output_type": "stream",
          "text": [
            "100%|██████████| 500/500 [00:06<00:00, 76.73it/s]\n"
          ]
        },
        {
          "name": "stdout",
          "output_type": "stream",
          "text": [
            "gamma:  4.3000000000000025 Cross Entropy Probability Consistency:  0.07565412492154804\n"
          ]
        },
        {
          "name": "stderr",
          "output_type": "stream",
          "text": [
            "100%|██████████| 500/500 [00:06<00:00, 76.68it/s]\n"
          ]
        },
        {
          "name": "stdout",
          "output_type": "stream",
          "text": [
            "gamma:  4.400000000000003 Cross Entropy Probability Consistency:  0.07296181932108503\n"
          ]
        },
        {
          "name": "stderr",
          "output_type": "stream",
          "text": [
            "100%|██████████| 500/500 [00:06<00:00, 76.81it/s]\n"
          ]
        },
        {
          "name": "stdout",
          "output_type": "stream",
          "text": [
            "gamma:  4.5000000000000036 Cross Entropy Probability Consistency:  0.07451986903238636\n"
          ]
        },
        {
          "name": "stderr",
          "output_type": "stream",
          "text": [
            "100%|██████████| 500/500 [00:06<00:00, 76.62it/s]\n"
          ]
        },
        {
          "name": "stdout",
          "output_type": "stream",
          "text": [
            "gamma:  4.600000000000003 Cross Entropy Probability Consistency:  0.07610847436169299\n"
          ]
        },
        {
          "name": "stderr",
          "output_type": "stream",
          "text": [
            "100%|██████████| 500/500 [00:06<00:00, 76.72it/s]\n"
          ]
        },
        {
          "name": "stdout",
          "output_type": "stream",
          "text": [
            "gamma:  4.700000000000003 Cross Entropy Probability Consistency:  0.07636712830808733\n"
          ]
        },
        {
          "name": "stderr",
          "output_type": "stream",
          "text": [
            "100%|██████████| 500/500 [00:06<00:00, 76.73it/s]\n"
          ]
        },
        {
          "name": "stdout",
          "output_type": "stream",
          "text": [
            "gamma:  4.800000000000003 Cross Entropy Probability Consistency:  0.07554855647655483\n"
          ]
        },
        {
          "name": "stderr",
          "output_type": "stream",
          "text": [
            "100%|██████████| 500/500 [00:06<00:00, 76.70it/s]\n"
          ]
        },
        {
          "name": "stdout",
          "output_type": "stream",
          "text": [
            "gamma:  4.900000000000004 Cross Entropy Probability Consistency:  0.07560292512002377\n"
          ]
        },
        {
          "name": "stderr",
          "output_type": "stream",
          "text": [
            "100%|██████████| 500/500 [00:06<00:00, 76.75it/s]\n"
          ]
        },
        {
          "name": "stdout",
          "output_type": "stream",
          "text": [
            "gamma:  5.0000000000000036 Cross Entropy Probability Consistency:  0.07545832173812461\n"
          ]
        },
        {
          "name": "stderr",
          "output_type": "stream",
          "text": [
            "100%|██████████| 500/500 [00:06<00:00, 76.79it/s]\n"
          ]
        },
        {
          "name": "stdout",
          "output_type": "stream",
          "text": [
            "gamma:  5.100000000000003 Cross Entropy Probability Consistency:  0.07434419391417499\n"
          ]
        },
        {
          "name": "stderr",
          "output_type": "stream",
          "text": [
            "100%|██████████| 500/500 [00:06<00:00, 76.78it/s]\n"
          ]
        },
        {
          "name": "stdout",
          "output_type": "stream",
          "text": [
            "gamma:  5.200000000000004 Cross Entropy Probability Consistency:  0.07646118889598391\n"
          ]
        },
        {
          "name": "stderr",
          "output_type": "stream",
          "text": [
            "100%|██████████| 500/500 [00:06<00:00, 76.53it/s]\n"
          ]
        },
        {
          "name": "stdout",
          "output_type": "stream",
          "text": [
            "gamma:  5.300000000000004 Cross Entropy Probability Consistency:  0.07624527120742286\n"
          ]
        },
        {
          "name": "stderr",
          "output_type": "stream",
          "text": [
            "100%|██████████| 500/500 [00:06<00:00, 76.72it/s]\n"
          ]
        },
        {
          "name": "stdout",
          "output_type": "stream",
          "text": [
            "gamma:  5.400000000000004 Cross Entropy Probability Consistency:  0.07356426771007948\n"
          ]
        },
        {
          "name": "stderr",
          "output_type": "stream",
          "text": [
            "100%|██████████| 500/500 [00:06<00:00, 76.60it/s]\n"
          ]
        },
        {
          "name": "stdout",
          "output_type": "stream",
          "text": [
            "gamma:  5.5000000000000036 Cross Entropy Probability Consistency:  0.07627184498992784\n"
          ]
        },
        {
          "name": "stderr",
          "output_type": "stream",
          "text": [
            "100%|██████████| 500/500 [00:06<00:00, 76.70it/s]\n"
          ]
        },
        {
          "name": "stdout",
          "output_type": "stream",
          "text": [
            "gamma:  5.600000000000004 Cross Entropy Probability Consistency:  0.07528035634093033\n"
          ]
        },
        {
          "name": "stderr",
          "output_type": "stream",
          "text": [
            "100%|██████████| 500/500 [00:06<00:00, 76.67it/s]\n"
          ]
        },
        {
          "name": "stdout",
          "output_type": "stream",
          "text": [
            "gamma:  5.700000000000005 Cross Entropy Probability Consistency:  0.07406866195964726\n"
          ]
        },
        {
          "name": "stderr",
          "output_type": "stream",
          "text": [
            "100%|██████████| 500/500 [00:06<00:00, 76.65it/s]\n"
          ]
        },
        {
          "name": "stdout",
          "output_type": "stream",
          "text": [
            "gamma:  5.800000000000004 Cross Entropy Probability Consistency:  0.07419049503758694\n"
          ]
        },
        {
          "name": "stderr",
          "output_type": "stream",
          "text": [
            "100%|██████████| 500/500 [00:06<00:00, 76.69it/s]\n"
          ]
        },
        {
          "name": "stdout",
          "output_type": "stream",
          "text": [
            "gamma:  5.900000000000004 Cross Entropy Probability Consistency:  0.07563531035201808\n"
          ]
        },
        {
          "name": "stderr",
          "output_type": "stream",
          "text": [
            "100%|██████████| 500/500 [00:06<00:00, 76.70it/s]\n"
          ]
        },
        {
          "name": "stdout",
          "output_type": "stream",
          "text": [
            "gamma:  6.000000000000004 Cross Entropy Probability Consistency:  0.07257491097462637\n"
          ]
        },
        {
          "name": "stderr",
          "output_type": "stream",
          "text": [
            "100%|██████████| 500/500 [00:06<00:00, 76.77it/s]\n"
          ]
        },
        {
          "name": "stdout",
          "output_type": "stream",
          "text": [
            "gamma:  6.100000000000005 Cross Entropy Probability Consistency:  0.07515072713495223\n"
          ]
        },
        {
          "name": "stderr",
          "output_type": "stream",
          "text": [
            "100%|██████████| 500/500 [00:06<00:00, 76.74it/s]\n"
          ]
        },
        {
          "name": "stdout",
          "output_type": "stream",
          "text": [
            "gamma:  6.200000000000005 Cross Entropy Probability Consistency:  0.07224739680327853\n"
          ]
        },
        {
          "name": "stderr",
          "output_type": "stream",
          "text": [
            "100%|██████████| 500/500 [00:06<00:00, 76.80it/s]\n"
          ]
        },
        {
          "name": "stdout",
          "output_type": "stream",
          "text": [
            "gamma:  6.300000000000004 Cross Entropy Probability Consistency:  0.07293035154035928\n"
          ]
        },
        {
          "name": "stderr",
          "output_type": "stream",
          "text": [
            "100%|██████████| 500/500 [00:06<00:00, 76.67it/s]\n"
          ]
        },
        {
          "name": "stdout",
          "output_type": "stream",
          "text": [
            "gamma:  6.400000000000005 Cross Entropy Probability Consistency:  0.07233880070448018\n"
          ]
        },
        {
          "name": "stderr",
          "output_type": "stream",
          "text": [
            "100%|██████████| 500/500 [00:06<00:00, 76.64it/s]\n"
          ]
        },
        {
          "name": "stdout",
          "output_type": "stream",
          "text": [
            "gamma:  6.500000000000005 Cross Entropy Probability Consistency:  0.06993967809501027\n"
          ]
        },
        {
          "name": "stderr",
          "output_type": "stream",
          "text": [
            "100%|██████████| 500/500 [00:06<00:00, 76.58it/s]\n"
          ]
        },
        {
          "name": "stdout",
          "output_type": "stream",
          "text": [
            "gamma:  6.600000000000005 Cross Entropy Probability Consistency:  0.07461818710228954\n"
          ]
        },
        {
          "name": "stderr",
          "output_type": "stream",
          "text": [
            "100%|██████████| 500/500 [00:06<00:00, 76.71it/s]\n"
          ]
        },
        {
          "name": "stdout",
          "output_type": "stream",
          "text": [
            "gamma:  6.700000000000005 Cross Entropy Probability Consistency:  0.07504789441320225\n"
          ]
        },
        {
          "name": "stderr",
          "output_type": "stream",
          "text": [
            "100%|██████████| 500/500 [00:06<00:00, 76.66it/s]\n"
          ]
        },
        {
          "name": "stdout",
          "output_type": "stream",
          "text": [
            "gamma:  6.800000000000005 Cross Entropy Probability Consistency:  0.0747236995076174\n"
          ]
        },
        {
          "name": "stderr",
          "output_type": "stream",
          "text": [
            "100%|██████████| 500/500 [00:06<00:00, 76.88it/s]\n"
          ]
        },
        {
          "name": "stdout",
          "output_type": "stream",
          "text": [
            "gamma:  6.900000000000006 Cross Entropy Probability Consistency:  0.07521126307320233\n"
          ]
        },
        {
          "name": "stderr",
          "output_type": "stream",
          "text": [
            "100%|██████████| 500/500 [00:06<00:00, 76.62it/s]\n"
          ]
        },
        {
          "name": "stdout",
          "output_type": "stream",
          "text": [
            "gamma:  7.000000000000005 Cross Entropy Probability Consistency:  0.0750423885657321\n"
          ]
        },
        {
          "name": "stderr",
          "output_type": "stream",
          "text": [
            "100%|██████████| 500/500 [00:06<00:00, 76.62it/s]\n"
          ]
        },
        {
          "name": "stdout",
          "output_type": "stream",
          "text": [
            "gamma:  7.100000000000005 Cross Entropy Probability Consistency:  0.07381501882294422\n"
          ]
        },
        {
          "name": "stderr",
          "output_type": "stream",
          "text": [
            "100%|██████████| 500/500 [00:06<00:00, 76.76it/s]\n"
          ]
        },
        {
          "name": "stdout",
          "output_type": "stream",
          "text": [
            "gamma:  7.2000000000000055 Cross Entropy Probability Consistency:  0.07577002375321722\n"
          ]
        },
        {
          "name": "stderr",
          "output_type": "stream",
          "text": [
            "100%|██████████| 500/500 [00:06<00:00, 76.38it/s]\n"
          ]
        },
        {
          "name": "stdout",
          "output_type": "stream",
          "text": [
            "gamma:  7.300000000000006 Cross Entropy Probability Consistency:  0.0754509695213231\n"
          ]
        },
        {
          "name": "stderr",
          "output_type": "stream",
          "text": [
            "100%|██████████| 500/500 [00:06<00:00, 76.55it/s]\n"
          ]
        },
        {
          "name": "stdout",
          "output_type": "stream",
          "text": [
            "gamma:  7.400000000000006 Cross Entropy Probability Consistency:  0.07431164503180107\n"
          ]
        },
        {
          "name": "stderr",
          "output_type": "stream",
          "text": [
            "100%|██████████| 500/500 [00:06<00:00, 76.57it/s]\n"
          ]
        },
        {
          "name": "stdout",
          "output_type": "stream",
          "text": [
            "gamma:  7.500000000000005 Cross Entropy Probability Consistency:  0.07589366079736833\n"
          ]
        },
        {
          "name": "stderr",
          "output_type": "stream",
          "text": [
            "100%|██████████| 500/500 [00:06<00:00, 76.78it/s]\n"
          ]
        },
        {
          "name": "stdout",
          "output_type": "stream",
          "text": [
            "gamma:  7.600000000000006 Cross Entropy Probability Consistency:  0.07555520157445864\n"
          ]
        },
        {
          "name": "stderr",
          "output_type": "stream",
          "text": [
            "100%|██████████| 500/500 [00:06<00:00, 76.80it/s]\n"
          ]
        },
        {
          "name": "stdout",
          "output_type": "stream",
          "text": [
            "gamma:  7.700000000000006 Cross Entropy Probability Consistency:  0.07584874870775453\n"
          ]
        },
        {
          "name": "stderr",
          "output_type": "stream",
          "text": [
            "100%|██████████| 500/500 [00:06<00:00, 76.83it/s]\n"
          ]
        },
        {
          "name": "stdout",
          "output_type": "stream",
          "text": [
            "gamma:  7.800000000000006 Cross Entropy Probability Consistency:  0.07587553137614644\n"
          ]
        },
        {
          "name": "stderr",
          "output_type": "stream",
          "text": [
            "100%|██████████| 500/500 [00:06<00:00, 76.83it/s]\n"
          ]
        },
        {
          "name": "stdout",
          "output_type": "stream",
          "text": [
            "gamma:  7.900000000000006 Cross Entropy Probability Consistency:  0.07655781947793139\n"
          ]
        },
        {
          "name": "stderr",
          "output_type": "stream",
          "text": [
            "100%|██████████| 500/500 [00:06<00:00, 76.65it/s]\n"
          ]
        },
        {
          "name": "stdout",
          "output_type": "stream",
          "text": [
            "gamma:  8.000000000000007 Cross Entropy Probability Consistency:  0.07592277204858328\n"
          ]
        },
        {
          "name": "stderr",
          "output_type": "stream",
          "text": [
            "100%|██████████| 500/500 [00:06<00:00, 76.81it/s]\n"
          ]
        },
        {
          "name": "stdout",
          "output_type": "stream",
          "text": [
            "gamma:  8.100000000000007 Cross Entropy Probability Consistency:  0.06802063621225113\n"
          ]
        },
        {
          "name": "stderr",
          "output_type": "stream",
          "text": [
            "100%|██████████| 500/500 [00:06<00:00, 76.59it/s]\n"
          ]
        },
        {
          "name": "stdout",
          "output_type": "stream",
          "text": [
            "gamma:  8.200000000000006 Cross Entropy Probability Consistency:  0.07472593785178523\n"
          ]
        },
        {
          "name": "stderr",
          "output_type": "stream",
          "text": [
            "100%|██████████| 500/500 [00:06<00:00, 76.65it/s]\n"
          ]
        },
        {
          "name": "stdout",
          "output_type": "stream",
          "text": [
            "gamma:  8.300000000000006 Cross Entropy Probability Consistency:  0.07475215989509522\n"
          ]
        },
        {
          "name": "stderr",
          "output_type": "stream",
          "text": [
            "100%|██████████| 500/500 [00:06<00:00, 76.84it/s]\n"
          ]
        },
        {
          "name": "stdout",
          "output_type": "stream",
          "text": [
            "gamma:  8.400000000000006 Cross Entropy Probability Consistency:  0.07539430506416238\n"
          ]
        },
        {
          "name": "stderr",
          "output_type": "stream",
          "text": [
            "100%|██████████| 500/500 [00:06<00:00, 76.62it/s]\n"
          ]
        },
        {
          "name": "stdout",
          "output_type": "stream",
          "text": [
            "gamma:  8.500000000000007 Cross Entropy Probability Consistency:  0.07550482886310901\n"
          ]
        },
        {
          "name": "stderr",
          "output_type": "stream",
          "text": [
            "100%|██████████| 500/500 [00:06<00:00, 76.71it/s]\n"
          ]
        },
        {
          "name": "stdout",
          "output_type": "stream",
          "text": [
            "gamma:  8.600000000000007 Cross Entropy Probability Consistency:  0.07605092015807656\n"
          ]
        },
        {
          "name": "stderr",
          "output_type": "stream",
          "text": [
            "100%|██████████| 500/500 [00:06<00:00, 76.54it/s]\n"
          ]
        },
        {
          "name": "stdout",
          "output_type": "stream",
          "text": [
            "gamma:  8.700000000000006 Cross Entropy Probability Consistency:  0.07584595964737888\n"
          ]
        },
        {
          "name": "stderr",
          "output_type": "stream",
          "text": [
            "100%|██████████| 500/500 [00:06<00:00, 76.66it/s]\n"
          ]
        },
        {
          "name": "stdout",
          "output_type": "stream",
          "text": [
            "gamma:  8.800000000000008 Cross Entropy Probability Consistency:  0.07668494475209357\n"
          ]
        },
        {
          "name": "stderr",
          "output_type": "stream",
          "text": [
            "100%|██████████| 500/500 [00:06<00:00, 76.66it/s]\n"
          ]
        },
        {
          "name": "stdout",
          "output_type": "stream",
          "text": [
            "gamma:  8.900000000000007 Cross Entropy Probability Consistency:  0.07511046204930284\n"
          ]
        },
        {
          "name": "stderr",
          "output_type": "stream",
          "text": [
            "100%|██████████| 500/500 [00:06<00:00, 76.69it/s]\n"
          ]
        },
        {
          "name": "stdout",
          "output_type": "stream",
          "text": [
            "gamma:  9.000000000000007 Cross Entropy Probability Consistency:  0.07552674068263639\n"
          ]
        },
        {
          "name": "stderr",
          "output_type": "stream",
          "text": [
            "100%|██████████| 500/500 [00:06<00:00, 76.33it/s]\n"
          ]
        },
        {
          "name": "stdout",
          "output_type": "stream",
          "text": [
            "gamma:  9.100000000000007 Cross Entropy Probability Consistency:  0.07520735000277746\n"
          ]
        },
        {
          "name": "stderr",
          "output_type": "stream",
          "text": [
            "100%|██████████| 500/500 [00:06<00:00, 76.55it/s]\n"
          ]
        },
        {
          "name": "stdout",
          "output_type": "stream",
          "text": [
            "gamma:  9.200000000000006 Cross Entropy Probability Consistency:  0.07445346995438053\n"
          ]
        },
        {
          "name": "stderr",
          "output_type": "stream",
          "text": [
            "100%|██████████| 500/500 [00:06<00:00, 76.68it/s]\n"
          ]
        },
        {
          "name": "stdout",
          "output_type": "stream",
          "text": [
            "gamma:  9.300000000000008 Cross Entropy Probability Consistency:  0.07443812815654435\n"
          ]
        },
        {
          "name": "stderr",
          "output_type": "stream",
          "text": [
            "100%|██████████| 500/500 [00:06<00:00, 76.44it/s]\n"
          ]
        },
        {
          "name": "stdout",
          "output_type": "stream",
          "text": [
            "gamma:  9.400000000000007 Cross Entropy Probability Consistency:  0.0748553487190079\n"
          ]
        },
        {
          "name": "stderr",
          "output_type": "stream",
          "text": [
            "100%|██████████| 500/500 [00:06<00:00, 76.66it/s]\n"
          ]
        },
        {
          "name": "stdout",
          "output_type": "stream",
          "text": [
            "gamma:  9.500000000000007 Cross Entropy Probability Consistency:  0.07583208720153467\n"
          ]
        },
        {
          "name": "stderr",
          "output_type": "stream",
          "text": [
            "100%|██████████| 500/500 [00:06<00:00, 76.38it/s]\n"
          ]
        },
        {
          "name": "stdout",
          "output_type": "stream",
          "text": [
            "gamma:  9.600000000000009 Cross Entropy Probability Consistency:  0.07571647767190809\n"
          ]
        },
        {
          "name": "stderr",
          "output_type": "stream",
          "text": [
            "100%|██████████| 500/500 [00:06<00:00, 76.66it/s]\n"
          ]
        },
        {
          "name": "stdout",
          "output_type": "stream",
          "text": [
            "gamma:  9.700000000000008 Cross Entropy Probability Consistency:  0.07561204357304459\n"
          ]
        },
        {
          "name": "stderr",
          "output_type": "stream",
          "text": [
            "100%|██████████| 500/500 [00:06<00:00, 76.72it/s]\n"
          ]
        },
        {
          "name": "stdout",
          "output_type": "stream",
          "text": [
            "gamma:  9.800000000000008 Cross Entropy Probability Consistency:  0.07646378855120126\n"
          ]
        },
        {
          "name": "stderr",
          "output_type": "stream",
          "text": [
            "100%|██████████| 500/500 [00:06<00:00, 76.55it/s]"
          ]
        },
        {
          "name": "stdout",
          "output_type": "stream",
          "text": [
            "gamma:  9.900000000000007 Cross Entropy Probability Consistency:  0.07437916634353957\n"
          ]
        },
        {
          "name": "stderr",
          "output_type": "stream",
          "text": [
            "\n"
          ]
        }
      ],
      "source": [
        "\n",
        "\n",
        "# from 1 to 10, step 0.1\n",
        "gamma_list = np.arange(1, 10, 0.1)\n",
        "\n",
        "for gamma in gamma_list:\n",
        "  # Training the model with cross entropy probability loss\n",
        "  model_ce_prob = DNN(dimension, 10, num_classes).cuda()\n",
        "  optimizer_ce_prob = optim.SGD(model_ce_prob.parameters(), lr=learning_rate)\n",
        "  pbar_ce_prob = tqdm(total=len(train_loader))\n",
        "  ce_prob = CrossEntropyProb(gamma=gamma).cuda()\n",
        "\n",
        "  for i, (inputs, labels) in enumerate(train_loader):\n",
        "    inputs = inputs.cuda()\n",
        "    labels = labels.cuda()\n",
        "    optimizer_ce_prob.zero_grad()\n",
        "    outputs = model_ce_prob(inputs)\n",
        "    # print(outputs[0])\n",
        "    # print(labels[0])\n",
        "    gt_probs = mog_data.compute_likelihood_ratio(labels.cpu(), inputs.cpu()) \n",
        "    gt_probs = torch.from_numpy(gt_probs).cuda()\n",
        "    loss_prob = ce_prob(outputs, labels, gt_probs)\n",
        "    loss_prob.backward()\n",
        "    optimizer_ce_prob.step()\n",
        "    pbar_ce_prob.update(1)\n",
        "  pbar_ce_prob.close()\n",
        "\n",
        "  test_outputs_ce_prob = model_ce_prob(test_data_tensor)\n",
        "  prob_ce_prob = F.softmax(test_outputs_ce_prob, dim=1)\n",
        "  consistency_ce_prob = test_gt_probs - prob_ce_prob[:, 0]\n",
        "  print(\"gamma: \", gamma, \"Cross Entropy Probability Consistency: \", consistency_ce_prob.abs().mean().item())\n",
        "\n",
        "  del model_ce_prob, ce_prob, optimizer_ce_prob, pbar_ce_prob, test_outputs_ce_prob, prob_ce_prob, consistency_ce_prob\n",
        "  gc.collect()\n",
        "  torch.cuda.empty_cache()"
      ]
    },
    {
      "cell_type": "code",
      "execution_count": null,
      "metadata": {},
      "outputs": [],
      "source": [
        "# generate a test dataset from the distribution\n",
        "test_data, test_labels = mog_data.sample_data(num_samples=1000000)\n",
        "test_gt_probs = mog_data.compute_likelihood_ratio(test_labels, test_data)\n",
        "test_labels = torch.from_numpy(test_labels).long()\n",
        "test_gt_probs = torch.from_numpy(test_gt_probs)\n",
        "\n",
        "test_outputs_ce = model_ce(torch.from_numpy(test_data))\n",
        "prob_ce = F.softmax(test_outputs_ce)\n",
        "consistency_ce =test_gt_probs-prob_ce[:,0]\n",
        "print(consistency_ce.abs().mean())\n",
        "\n",
        "test_outputs_ce_prob = model_ce_prob(torch.from_numpy(test_data))\n",
        "prob_ce_prob = F.softmax(test_outputs_ce_prob)\n",
        "consistency_ce_prob =test_gt_probs-prob_ce_prob[:,0]\n",
        "print(consistency_ce_prob.abs().mean())"
      ]
    },
    {
      "cell_type": "code",
      "execution_count": null,
      "metadata": {},
      "outputs": [],
      "source": [
        "# generate a test dataset from the distribution\n",
        "test_data, test_labels = mog_data.sample_data(num_samples=10000)\n",
        "test_data = torch.from_numpy(test_data).cuda()\n",
        "test_labels = torch.from_numpy(test_labels).long().cuda()\n",
        "\n",
        "# get the prediction \n",
        "test_outputs_ce = model_ce(test_data)\n",
        "test_pred_probs_ce = torch.max(F.softmax(test_outputs_ce, dim=1), dim=1)[0]\n",
        "test_pred_labels_ce = torch.max(test_outputs_ce, dim=1)[1]\n",
        "\n",
        "test_outputs_ce_prob = model_ce_prob(test_data)\n",
        "test_pred_probs_ce_prob = torch.max(F.softmax(test_outputs_ce_prob, dim=1), dim=1)[0]\n",
        "test_pred_labels_ce_prob = torch.max(test_outputs_ce_prob, dim=1)[1]\n",
        "\n",
        "accuracy_ce = (test_pred_labels_ce == test_labels).float().mean().item()\n",
        "accuracy_ce_prob = (test_pred_labels_ce_prob == test_labels).float().mean().item()\n",
        "print(f\"Accuracy: {accuracy_ce:.4f}\")\n",
        "print(f\"Accuracy: {accuracy_ce_prob:.4f}\")"
      ]
    },
    {
      "cell_type": "code",
      "execution_count": null,
      "metadata": {},
      "outputs": [],
      "source": []
    },
    {
      "cell_type": "code",
      "execution_count": null,
      "metadata": {
        "colab": {
          "base_uri": "https://localhost:8080/"
        },
        "id": "zMKn-ya_Jg1Y",
        "outputId": "1652dd3a-bc6e-456f-9c94-719d2636da41"
      },
      "outputs": [],
      "source": [
        "def generate_mesh(min_x, max_x, min_y, max_y, num_x, num_y):\n",
        "  # Define the range of x and y values\n",
        "  x_range = np.linspace(-5, 5, num_x)\n",
        "  y_range = np.linspace(-5, 5, num_y)\n",
        "\n",
        "  # Generate the grid of points\n",
        "  X, Y = np.meshgrid(x_range, y_range)\n",
        "  print(X.shape)\n",
        "  print(Y.shape)\n",
        "\n",
        "  mesh = np.stack((X.reshape(-1),Y.reshape(-1)), axis=1)\n",
        "  print(mesh.shape)\n",
        "  return mesh\n",
        "\n",
        "min_x = min_y = -500\n",
        "max_x = max_y = 500\n",
        "num_x = num_y = 101\n",
        "\n",
        "mesh_np = generate_mesh(min_x=min_x, max_x=max_x, min_y=min_y, max_y=max_y, num_x=num_x, num_y=num_y).astype(np.float32)\n",
        "\n",
        "inputs = torch.from_numpy(mesh_np)\n",
        "outputs = model_ce(inputs)\n",
        "pred_probs = F.softmax(outputs)[:, 0].detach().numpy()\n",
        "print(mesh_np.shape)\n",
        "print(mesh_np[100])\n",
        "gt_probs = mog_data.compute_likelihood_ratio(mesh_np)\n"
      ]
    },
    {
      "cell_type": "code",
      "execution_count": null,
      "metadata": {},
      "outputs": [],
      "source": []
    },
    {
      "cell_type": "code",
      "execution_count": null,
      "metadata": {},
      "outputs": [],
      "source": [
        "def set_seed(seed):\n",
        "  random.seed(seed)\n",
        "  np.random.seed(seed)\n",
        "  torch.manual_seed(seed)\n",
        "  torch.cuda.manual_seed(seed)\n",
        "  torch.cuda.manual_seed_all(seed)\n",
        "  torch.backends.cudnn.deterministic = True\n",
        "  torch.backends.cudnn.benchmark = False\n",
        "\n",
        "# set_seed(18222)\n",
        "\n",
        "\n",
        "# Select points with probabilities between 0.8 and 0.85, give back the indices\n",
        "selected_indices = torch.where((test_pred_probs > 0.7) & (test_pred_probs < 0.85))\n",
        "# selected_indices = torch.where(test_pred_probs > 0.0)\n",
        "\n",
        "# randomly sample 1 number from the selected indices\n",
        "poi_index = random.choice(selected_indices[0].numpy())\n",
        "poi_data = test_data[poi_index]\n",
        "poi_label = test_labels[poi_index]\n",
        "poi_pred_prob = test_pred_probs[poi_index]\n",
        "poi_pred_label = test_pred_labels[poi_index]\n",
        "\n",
        "# compute the likelihood ratio for the poi_data\n",
        "poi_gt_prob = mog_data.compute_likelihood_ratio(poi_data) if poi_pred_label == 0 else 1 - mog_data.compute_likelihood_ratio(poi_data)\n",
        "\n",
        "print(f\"The POI is {poi_data} with label {poi_label} and prediction probability {poi_pred_prob} and prediction label {poi_pred_label}\")\n",
        "print(f\"The ground truth probability of the POI is {poi_gt_prob}\")\n",
        "\n",
        "# get the points with confidence around poi_pred_prob less than 0.01\n",
        "confidence_gap = 0.03\n",
        "confidence_high_threshold = poi_pred_prob + confidence_gap/2\n",
        "confidence_low_threshold = poi_pred_prob - confidence_gap/2\n",
        "# get the indices of the points with confidence around poi_pred_prob less than 0.01\n",
        "confidence_indices = torch.where((test_pred_probs > confidence_low_threshold) & (test_pred_probs < confidence_high_threshold))\n",
        "calibration_error_acc = (test_pred_labels[confidence_indices] == test_labels[confidence_indices]).sum()/len(confidence_indices[0])\n",
        "print(f\"The accuracy of the {len(confidence_indices[0])} points with confidence gap {confidence_gap} around point of interest {poi_pred_prob} is {calibration_error_acc}\")\n",
        "print(f\"The gap between the accuracy and the ground truth probability of the POI is {abs(calibration_error_acc - poi_gt_prob)}\")\n",
        "\n",
        "\n",
        "eps = 0.61\n",
        "poi_data_around = poi_data + np.random.uniform(-eps, eps, size=(1000,) + poi_data.shape)\n",
        "\n",
        "# calculate the predicted label of these neighboring points\n",
        "output_labels_around = model(torch.from_numpy(poi_data_around).float())\n",
        "pred_labels_around = torch.max(output_labels_around, dim=1)[1]\n",
        "pred_labels_conf = torch.max(F.softmax(output_labels_around, dim=1), dim=1)[0]\n",
        "\n",
        "\n",
        "aggregation_result = pred_labels_around.sum()/len(pred_labels_around)\n",
        "aggregation_result = max(aggregation_result.item(), 1 - aggregation_result.item())\n",
        "print(f\"The consistency eps: {eps:.2f}, pred_labels_around: {aggregation_result}\")\n",
        "print(f\"The gap between the consistency (eps={eps:.2f}) and the ground truth probability of the POI is {abs(aggregation_result - poi_gt_prob)}\")\n"
      ]
    },
    {
      "cell_type": "code",
      "execution_count": null,
      "metadata": {},
      "outputs": [],
      "source": [
        "for i in range(1000):\n",
        "    # sample 1000 points around the poi_data, the distance is sampled from a uniform distribution between 0 and 0.1\n",
        "    eps = i/1000\n",
        "    poi_data_around = poi_data + np.random.uniform(-eps, eps, size=(1000,) + poi_data.shape)\n",
        "\n",
        "    # calculate the predicted label of these neighboring points\n",
        "    output_labels_around = model(torch.from_numpy(poi_data_around).float())\n",
        "    pred_labels_around = torch.max(output_labels_around, dim=1)[1]\n",
        "    pred_labels_conf = torch.max(F.softmax(output_labels_around), dim=1)[0]\n",
        "\n",
        "    \n",
        "    aggregation_result = pred_labels_around.sum()/len(pred_labels_around)\n",
        "    print(\"eps: \", eps, \"pred_labels_around: \", aggregation_result if aggregation_result > 0.5 else 1 - aggregation_result)"
      ]
    },
    {
      "cell_type": "code",
      "execution_count": null,
      "metadata": {
        "colab": {
          "base_uri": "https://localhost:8080/",
          "height": 258
        },
        "id": "KAzqe7rA7jjG",
        "outputId": "dc38d16b-b282-4bfc-cbaf-ad10d48b3ba0"
      },
      "outputs": [],
      "source": [
        "fig, ax = plt.subplots()\n",
        "im = ax.imshow(np.flip(pred_probs.reshape(num_x, num_y), axis=0),cmap='jet')\n",
        "cbar = fig.colorbar(im)\n",
        "cbar.set_ticks([0,.25,.5,.75,1])\n",
        "cbar.set_ticklabels([0,.25,.5,.75,1])\n",
        "cbar.outline.set_linewidth(0)\n",
        "ax.axis(False)\n",
        "plt.show()"
      ]
    },
    {
      "cell_type": "code",
      "execution_count": null,
      "metadata": {
        "colab": {
          "base_uri": "https://localhost:8080/",
          "height": 258
        },
        "id": "_-yuG-NE9PLs",
        "outputId": "7ffedf51-23a1-4cff-cb9d-762437ed0b03"
      },
      "outputs": [],
      "source": [
        "fig, ax = plt.subplots()\n",
        "im = ax.imshow(np.flip(gt_probs.reshape(num_x, num_y), axis=0),cmap='jet')\n",
        "cbar = fig.colorbar(im)\n",
        "cbar.set_ticks([0,.25,.5,.75,1])\n",
        "cbar.set_ticklabels([0,.25,.5,.75,1])\n",
        "cbar.outline.set_linewidth(0)\n",
        "ax.axis(False)\n",
        "plt.show()"
      ]
    },
    {
      "cell_type": "code",
      "execution_count": null,
      "metadata": {
        "colab": {
          "base_uri": "https://localhost:8080/",
          "height": 248
        },
        "id": "EpHNkW4RAGW0",
        "outputId": "0fae517a-1d05-41a1-8a94-32827fe15150"
      },
      "outputs": [],
      "source": [
        "fig, ax = plt.subplots()\n",
        "im = ax.imshow(np.flip((pred_probs-gt_probs).reshape(num_x, num_y), axis=0),cmap='hsv')\n",
        "cbar = fig.colorbar(im)\n",
        "cbar.set_ticks([-.2, -.1, 0,.1, .2])\n",
        "cbar.set_ticklabels([-.2, -.1, 0,.1, .2])\n",
        "cbar.outline.set_linewidth(0)\n",
        "ax.axis(False)\n",
        "plt.show()"
      ]
    },
    {
      "cell_type": "code",
      "execution_count": null,
      "metadata": {
        "id": "oTlojbevH8We"
      },
      "outputs": [],
      "source": []
    }
  ],
  "metadata": {
    "colab": {
      "provenance": []
    },
    "kernelspec": {
      "display_name": "Python 3 (ipykernel)",
      "language": "python",
      "name": "python3"
    },
    "language_info": {
      "codemirror_mode": {
        "name": "ipython",
        "version": 3
      },
      "file_extension": ".py",
      "mimetype": "text/x-python",
      "name": "python",
      "nbconvert_exporter": "python",
      "pygments_lexer": "ipython3",
      "version": "3.8.19"
    }
  },
  "nbformat": 4,
  "nbformat_minor": 0
}
