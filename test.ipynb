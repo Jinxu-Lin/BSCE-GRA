{
  "cells": [
    {
      "cell_type": "markdown",
      "metadata": {
        "id": "OgngvunjJlMo"
      },
      "source": [
        "Generated partially with ChatGPT (chat.openai.com).\n"
      ]
    },
    {
      "cell_type": "code",
      "execution_count": 2,
      "metadata": {
        "id": "d865RY5uHWNZ"
      },
      "outputs": [],
      "source": [
        "\n",
        "import torch\n",
        "import torch.nn as nn\n",
        "import torch.optim as optim\n",
        "import torch.nn.functional as F\n",
        "from torch.utils.data import Dataset, DataLoader\n",
        "import numpy as np\n",
        "import random\n",
        "from tqdm import tqdm\n",
        "import matplotlib.pyplot as plt\n",
        "from scipy.stats import multivariate_normal\n",
        "import os\n",
        "os.environ[\"CUDA_VISIBLE_DEVICES\"] = \"0\"\n"
      ]
    },
    {
      "cell_type": "code",
      "execution_count": 3,
      "metadata": {
        "id": "_4Pm4zHPISDZ"
      },
      "outputs": [],
      "source": [
        "# Define a custom dataset\n",
        "class CustomDataset(Dataset):\n",
        "    def __init__(self, data, labels):\n",
        "        self.data = data\n",
        "        self.labels = labels\n",
        "\n",
        "    def __len__(self):\n",
        "        return len(self.data)\n",
        "\n",
        "    def __getitem__(self, idx):\n",
        "        return self.data[idx], self.labels[idx]\n",
        "\n",
        "\n",
        "# Define the dataset\n",
        "class MoGData(object):\n",
        "  def __init__(self, dimension=2, num_classes=2):\n",
        "    # Define the parameters for the two Gaussian distributions\n",
        "    self.dimension = dimension\n",
        "    self.num_classes = num_classes\n",
        "    \n",
        "    self.mu = np.zeros((num_classes, dimension))\n",
        "    self.sigma = np.zeros((num_classes, dimension, dimension))\n",
        "    self.distrib = []\n",
        "\n",
        "    for i in range(num_classes):\n",
        "      for j in range(dimension):\n",
        "        self.mu[i, j] = np.random.uniform(-10, 10)\n",
        "      self.sigma[i] = np.eye(dimension)  # Identity matrix for variance\n",
        "      self.distrib.append(multivariate_normal(mean=self.mu[i], cov=self.sigma[i]))\n",
        "      print(self.sigma[i])\n",
        "\n",
        "  def sample_data(self, num_samples = 10000):\n",
        "    # Generate samples from the two Gaussian distributions\n",
        "    samples = []\n",
        "    for i in range(self.num_classes):\n",
        "      samples.append(np.random.multivariate_normal(self.mu[i], self.sigma[i], num_samples))\n",
        "    # samples0 = np.random.multivariate_normal(self.mu0, self.sigma0, num_samples)\n",
        "    # samples1 = np.random.multivariate_normal(self.mu1, self.sigma1, num_samples)\n",
        "\n",
        "    # Combine the samples and create labels\n",
        "    data = np.concatenate(samples).astype(np.float32)\n",
        "    labels = np.concatenate([[i]*num_samples for i in range(self.num_classes)]).astype(int)\n",
        "\n",
        "    # Shuffle the data and labels together\n",
        "    combined = list(zip(data, labels))\n",
        "    # random.shuffle(combined)\n",
        "    data[:], labels[:] = zip(*combined)\n",
        "    return data, labels\n",
        "  \n",
        "  def plot(self, num_samples):\n",
        "    data, labels = self.sample_data(num_samples)\n",
        "    print(data.shape)\n",
        "    print(labels.shape)\n",
        "    fig = plt.figure()\n",
        "    \n",
        "    if self.dimension !=2 and self.dimension !=3:\n",
        "      return\n",
        "    \n",
        "    if self.dimension == 3:\n",
        "      ax = fig.add_subplot(111, projection='3d')\n",
        "      for i in range(self.num_classes):\n",
        "        samples = data[labels==i]\n",
        "        # random color\n",
        "        color = np.random.rand(3)\n",
        "        ax.scatter(samples[:, 0], samples[:, 1], samples[:, 2], c=[color], label='class '+str(i), alpha=0.05)\n",
        "      plt.legend()\n",
        "      plt.show()\n",
        "\n",
        "    elif self.dimension == 2:\n",
        "      for i in range(self.num_classes):\n",
        "        samples = data[labels==i]\n",
        "        # random color\n",
        "        color = np.random.rand(3)\n",
        "        plt.scatter(samples[:, 0], samples[:, 1], c=color, label='class '+str(i), alpha=0.05)\n",
        "      plt.legend()\n",
        "      plt.show()\n",
        "\n",
        "  # def compute_likelihood_ratio(self, labels, data_points):\n",
        "  #   print(data_points.shape)\n",
        "  #   \"\"\"p(y=0|x), assuming p(y=0)=p(y=1)=0.5\"\"\"\n",
        "  #   gt_probs = np.zeros(data_points.shape[0])\n",
        "\n",
        "  #   for i in range(data_points.shape[0]):\n",
        "  #     distance = np.zeros(self.num_classes)\n",
        "  #     for j in range(self.num_classes):\n",
        "  #       distance[j] = self.distrib[j].pdf(data_points[i])\n",
        "  #     gt_probs[i] = distance[labels[i]] / distance.sum()\n",
        "  #   return gt_probs\n",
        "\n",
        "  def compute_likelihood_ratio(self, labels, data_points):\n",
        "    \"\"\"p(y=0|x), assuming p(y=0)=p(y=1)=0.5\"\"\"\n",
        "    # 计算所有数据点在每个类别分布下的pdf值\n",
        "    distances = np.array([self.distrib[j].pdf(data_points) for j in range(self.num_classes)]).T\n",
        "    \n",
        "    # 获取每个数据点对应类别的pdf值\n",
        "    gt_probs = distances[np.arange(data_points.shape[0]), labels] / distances.sum(axis=1)\n",
        "    \n",
        "    return gt_probs"
      ]
    },
    {
      "cell_type": "code",
      "execution_count": 7,
      "metadata": {},
      "outputs": [
        {
          "name": "stdout",
          "output_type": "stream",
          "text": [
            "[[1. 0. 0.]\n",
            " [0. 1. 0.]\n",
            " [0. 0. 1.]]\n",
            "[[1. 0. 0.]\n",
            " [0. 1. 0.]\n",
            " [0. 0. 1.]]\n",
            "[[1. 0. 0.]\n",
            " [0. 1. 0.]\n",
            " [0. 0. 1.]]\n",
            "[[1. 0. 0.]\n",
            " [0. 1. 0.]\n",
            " [0. 0. 1.]]\n",
            "[[1. 0. 0.]\n",
            " [0. 1. 0.]\n",
            " [0. 0. 1.]]\n",
            "[[1. 0. 0.]\n",
            " [0. 1. 0.]\n",
            " [0. 0. 1.]]\n",
            "[[1. 0. 0.]\n",
            " [0. 1. 0.]\n",
            " [0. 0. 1.]]\n",
            "[[1. 0. 0.]\n",
            " [0. 1. 0.]\n",
            " [0. 0. 1.]]\n",
            "[[1. 0. 0.]\n",
            " [0. 1. 0.]\n",
            " [0. 0. 1.]]\n",
            "[[1. 0. 0.]\n",
            " [0. 1. 0.]\n",
            " [0. 0. 1.]]\n",
            "(30000, 3)\n",
            "(30000,)\n"
          ]
        },
        {
          "data": {
            "image/png": "[encoded data removed]",
            "text/plain": [
              "<Figure size 640x480 with 1 Axes>"
            ]
          },
          "metadata": {},
          "output_type": "display_data"
        }
      ],
      "source": [
        "# Dataset Initialization\n",
        "\n",
        "num_samples = 100000\n",
        "batch_size = 1000\n",
        "dimension = 3\n",
        "num_classes = 10\n",
        "\n",
        "mog_data = MoGData(dimension=dimension, num_classes=num_classes)\n",
        "mog_data.plot(num_samples=3000)\n",
        "train_loader = DataLoader(CustomDataset(*mog_data.sample_data(num_samples=num_samples)),\n",
        "                          batch_size=batch_size,\n",
        "                          shuffle=True)"
      ]
    },
    {
      "cell_type": "code",
      "execution_count": 4,
      "metadata": {},
      "outputs": [],
      "source": [
        "# Define the DNN model\n",
        "class DNN(nn.Module):\n",
        "    def __init__(self, input_size, hidden_size, num_classes):\n",
        "        super(DNN, self).__init__()\n",
        "        self.fc1 = nn.Linear(input_size, hidden_size)\n",
        "        self.relu = nn.ReLU()\n",
        "        self.fc2 = nn.Linear(hidden_size, num_classes)\n",
        "\n",
        "    def forward(self, x):\n",
        "        out = self.fc1(x)\n",
        "        out = self.relu(out)\n",
        "        out = self.fc2(out)\n",
        "        return out\n",
        "\n",
        "# class DNN(nn.Module):\n",
        "#     def __init__(self, input_size, hidden_size, num_classes):\n",
        "#         super(DNN, self).__init__()\n",
        "#         self.fc1 = nn.Linear(input_size, hidden_size)\n",
        "#         self.bn1 = nn.BatchNorm1d(hidden_size)\n",
        "#         self.relu1 = nn.ReLU()\n",
        "        \n",
        "#         self.fc2 = nn.Linear(hidden_size, hidden_size)\n",
        "#         self.bn2 = nn.BatchNorm1d(hidden_size)\n",
        "#         self.relu2 = nn.ReLU()\n",
        "        \n",
        "#         self.fc3 = nn.Linear(hidden_size, hidden_size)\n",
        "#         self.bn3 = nn.BatchNorm1d(hidden_size)\n",
        "#         self.relu3 = nn.ReLU()\n",
        "        \n",
        "#         self.fc4 = nn.Linear(hidden_size, num_classes)\n",
        "\n",
        "#     def forward(self, x):\n",
        "#         out = self.fc1(x)\n",
        "#         out = self.bn1(out)\n",
        "#         out = self.relu1(out)\n",
        "        \n",
        "#         out = self.fc2(out)\n",
        "#         out = self.bn2(out)\n",
        "#         out = self.relu2(out)\n",
        "        \n",
        "#         out = self.fc3(out)\n",
        "#         out = self.bn3(out)\n",
        "#         out = self.relu3(out)\n",
        "        \n",
        "#         out = self.fc4(out)\n",
        "#         return out"
      ]
    },
    {
      "cell_type": "code",
      "execution_count": 5,
      "metadata": {},
      "outputs": [],
      "source": [
        "# Define custom loss functions\n",
        "class CrossEntropy(nn.Module):\n",
        "    def __init__(self):\n",
        "        super(CrossEntropy, self).__init__()\n",
        "\n",
        "    def forward(self, input, target):\n",
        "\n",
        "        target = target.view(-1, 1)\n",
        "        logpt = F.log_softmax(input, dim=1)\n",
        "        logpt = logpt.gather(1, target)\n",
        "        logpt = logpt.view(-1)\n",
        "        loss = -1 * logpt\n",
        "\n",
        "        return loss.mean()\n",
        "\n",
        "class CrossEntropyProb(nn.Module):\n",
        "    def __init__(self, gamma=2):\n",
        "        super(CrossEntropyProb, self).__init__()\n",
        "        self.gamma = gamma\n",
        "    def forward(self, input, target, gt_prob):\n",
        "\n",
        "        target = target.view(-1,1)\n",
        "        logpt = F.log_softmax(input, dim=1)\n",
        "        logpt = logpt.gather(1,target)\n",
        "        logpt = logpt.view(-1)\n",
        "\n",
        "        pt = logpt.exp()\n",
        "\n",
        "        # Get the correct class probability\n",
        "        # Eg if target is 0, gt_prob is prob(0) = |0 - prob(0)|\n",
        "        # If target is 1, gt_prob is prob(1) = |1 - prob(0)|\n",
        "        # gt_prob = (target-gt_prob).abs()\n",
        "\n",
        "        weight = (gt_prob - pt).abs()**self.gamma\n",
        "        # weight = (1-pt)**self.gamma\n",
        "        \n",
        "        loss = -1 * weight * logpt\n",
        "\n",
        "        return loss.mean()"
      ]
    },
    {
      "cell_type": "code",
      "execution_count": 6,
      "metadata": {
        "colab": {
          "base_uri": "https://localhost:8080/",
          "height": 354
        },
        "id": "q2W3kjyfHzfd",
        "outputId": "abe5fb16-95cc-4e8f-992a-862a8abd2bd7"
      },
      "outputs": [
        {
          "name": "stderr",
          "output_type": "stream",
          "text": [
            "100%|██████████| 1000/1000 [00:01<00:00, 567.57it/s]\n"
          ]
        }
      ],
      "source": [
        "learning_rate = 1\n",
        "\n",
        "# Training the model with cross entropy loss\n",
        "model_ce = DNN(dimension, 10, num_classes).cuda()  # Move model to GPU\n",
        "ce = CrossEntropy().cuda()  # Move loss function to GPU\n",
        "optimizer_ce = optim.SGD(model_ce.parameters(), lr=learning_rate)\n",
        "pbar_ce = tqdm(total=len(train_loader))\n",
        "\n",
        "for i, (inputs, labels) in enumerate(train_loader):\n",
        "  inputs, labels = inputs.cuda(), labels.cuda()  # Move data to GPU\n",
        "  optimizer_ce.zero_grad()\n",
        "  outputs = model_ce(inputs)\n",
        "  loss_ce = ce(outputs, labels)\n",
        "  loss_ce.backward()\n",
        "  optimizer_ce.step()\n",
        "  pbar_ce.update(1)\n",
        "pbar_ce.close()\n"
      ]
    },
    {
      "cell_type": "code",
      "execution_count": 7,
      "metadata": {},
      "outputs": [
        {
          "name": "stderr",
          "output_type": "stream",
          "text": [
            "100%|██████████| 1000/1000 [00:04<00:00, 248.21it/s]\n"
          ]
        }
      ],
      "source": [
        "gamma = 1\n",
        "\n",
        "# Training the model with cross entropy probability loss\n",
        "model_ce_prob = DNN(dimension, 10, num_classes).cuda()\n",
        "ce_prob = CrossEntropyProb(gamma=gamma).cuda()\n",
        "optimizer_ce_prob = optim.SGD(model_ce_prob.parameters(), lr=learning_rate)\n",
        "pbar_ce_prob = tqdm(total=len(train_loader))\n",
        "\n",
        "for i, (inputs, labels) in enumerate(train_loader):\n",
        "  inputs = inputs.cuda()\n",
        "  labels = labels.cuda()\n",
        "  optimizer_ce_prob.zero_grad()\n",
        "  outputs = model_ce_prob(inputs)\n",
        "  # print(outputs[0])\n",
        "  # print(labels[0])\n",
        "  gt_probs = mog_data.compute_likelihood_ratio(labels.cpu(), inputs.cpu()) \n",
        "  gt_probs = torch.from_numpy(gt_probs).cuda()\n",
        "  loss_prob = ce_prob(outputs, labels, gt_probs)\n",
        "  loss_prob.backward()\n",
        "  optimizer_ce_prob.step()\n",
        "  pbar_ce_prob.update(1)\n",
        "pbar_ce_prob.close()"
      ]
    },
    {
      "cell_type": "code",
      "execution_count": 8,
      "metadata": {},
      "outputs": [
        {
          "name": "stdout",
          "output_type": "stream",
          "text": [
            "0.9003147333860397\n",
            "0.8995026506073773\n"
          ]
        }
      ],
      "source": [
        "# generate a test dataset from the distribution\n",
        "test_data, test_labels = mog_data.sample_data(num_samples=1000)\n",
        "test_gt_probs = mog_data.compute_likelihood_ratio(test_labels, test_data)\n",
        "test_labels = torch.from_numpy(test_labels).long().cuda()\n",
        "test_gt_probs = torch.from_numpy(test_gt_probs).cuda()\n",
        "\n",
        "test_data_tensor = torch.from_numpy(test_data).cuda()\n",
        "\n",
        "test_outputs_ce = model_ce(test_data_tensor)\n",
        "prob_ce = F.softmax(test_outputs_ce, dim=1)\n",
        "consistency_ce = test_gt_probs - prob_ce[:, 0]\n",
        "print(consistency_ce.abs().mean().item())\n",
        "\n",
        "test_outputs_ce_prob = model_ce_prob(test_data_tensor)\n",
        "prob_ce_prob = F.softmax(test_outputs_ce_prob, dim=1)\n",
        "consistency_ce_prob = test_gt_probs - prob_ce_prob[:, 0]\n",
        "print(consistency_ce_prob.abs().mean().item())"
      ]
    },
    {
      "cell_type": "code",
      "execution_count": 78,
      "metadata": {},
      "outputs": [
        {
          "ename": "KeyboardInterrupt",
          "evalue": "",
          "output_type": "error",
          "traceback": [
            "\u001b[0;31m---------------------------------------------------------------------------\u001b[0m",
            "\u001b[0;31mKeyboardInterrupt\u001b[0m                         Traceback (most recent call last)",
            "Cell \u001b[0;32mIn[78], line 2\u001b[0m\n\u001b[1;32m      1\u001b[0m \u001b[38;5;66;03m# generate a test dataset from the distribution\u001b[39;00m\n\u001b[0;32m----> 2\u001b[0m test_data, test_labels \u001b[38;5;241m=\u001b[39m \u001b[43mmog_data\u001b[49m\u001b[38;5;241;43m.\u001b[39;49m\u001b[43msample_data\u001b[49m\u001b[43m(\u001b[49m\u001b[43mnum_samples\u001b[49m\u001b[38;5;241;43m=\u001b[39;49m\u001b[38;5;241;43m1000000\u001b[39;49m\u001b[43m)\u001b[49m\n\u001b[1;32m      3\u001b[0m test_gt_probs \u001b[38;5;241m=\u001b[39m mog_data\u001b[38;5;241m.\u001b[39mcompute_likelihood_ratio(test_labels, test_data)\n\u001b[1;32m      4\u001b[0m test_labels \u001b[38;5;241m=\u001b[39m torch\u001b[38;5;241m.\u001b[39mfrom_numpy(test_labels)\u001b[38;5;241m.\u001b[39mlong()\n",
            "Cell \u001b[0;32mIn[3], line 36\u001b[0m, in \u001b[0;36mMoGData.sample_data\u001b[0;34m(self, num_samples)\u001b[0m\n\u001b[1;32m     34\u001b[0m samples \u001b[38;5;241m=\u001b[39m []\n\u001b[1;32m     35\u001b[0m \u001b[38;5;28;01mfor\u001b[39;00m i \u001b[38;5;129;01min\u001b[39;00m \u001b[38;5;28mrange\u001b[39m(\u001b[38;5;28mself\u001b[39m\u001b[38;5;241m.\u001b[39mnum_classes):\n\u001b[0;32m---> 36\u001b[0m   samples\u001b[38;5;241m.\u001b[39mappend(\u001b[43mnp\u001b[49m\u001b[38;5;241;43m.\u001b[39;49m\u001b[43mrandom\u001b[49m\u001b[38;5;241;43m.\u001b[39;49m\u001b[43mmultivariate_normal\u001b[49m\u001b[43m(\u001b[49m\u001b[38;5;28;43mself\u001b[39;49m\u001b[38;5;241;43m.\u001b[39;49m\u001b[43mmu\u001b[49m\u001b[43m[\u001b[49m\u001b[43mi\u001b[49m\u001b[43m]\u001b[49m\u001b[43m,\u001b[49m\u001b[43m \u001b[49m\u001b[38;5;28;43mself\u001b[39;49m\u001b[38;5;241;43m.\u001b[39;49m\u001b[43msigma\u001b[49m\u001b[43m[\u001b[49m\u001b[43mi\u001b[49m\u001b[43m]\u001b[49m\u001b[43m,\u001b[49m\u001b[43m \u001b[49m\u001b[43mnum_samples\u001b[49m\u001b[43m)\u001b[49m)\n\u001b[1;32m     37\u001b[0m \u001b[38;5;66;03m# samples0 = np.random.multivariate_normal(self.mu0, self.sigma0, num_samples)\u001b[39;00m\n\u001b[1;32m     38\u001b[0m \u001b[38;5;66;03m# samples1 = np.random.multivariate_normal(self.mu1, self.sigma1, num_samples)\u001b[39;00m\n\u001b[1;32m     39\u001b[0m \n\u001b[1;32m     40\u001b[0m \u001b[38;5;66;03m# Combine the samples and create labels\u001b[39;00m\n\u001b[1;32m     41\u001b[0m data \u001b[38;5;241m=\u001b[39m np\u001b[38;5;241m.\u001b[39mconcatenate(samples)\u001b[38;5;241m.\u001b[39mastype(np\u001b[38;5;241m.\u001b[39mfloat32)\n",
            "File \u001b[0;32mmtrand.pyx:4235\u001b[0m, in \u001b[0;36mnumpy.random.mtrand.RandomState.multivariate_normal\u001b[0;34m()\u001b[0m\n",
            "File \u001b[0;32m<__array_function__ internals>:200\u001b[0m, in \u001b[0;36mdot\u001b[0;34m(*args, **kwargs)\u001b[0m\n",
            "\u001b[0;31mKeyboardInterrupt\u001b[0m: "
          ]
        }
      ],
      "source": [
        "# generate a test dataset from the distribution\n",
        "test_data, test_labels = mog_data.sample_data(num_samples=1000000)\n",
        "test_gt_probs = mog_data.compute_likelihood_ratio(test_labels, test_data)\n",
        "test_labels = torch.from_numpy(test_labels).long()\n",
        "test_gt_probs = torch.from_numpy(test_gt_probs)\n",
        "\n",
        "test_outputs_ce = model_ce(torch.from_numpy(test_data))\n",
        "prob_ce = F.softmax(test_outputs_ce)\n",
        "consistency_ce =test_gt_probs-prob_ce[:,0]\n",
        "print(consistency_ce.abs().mean())\n",
        "\n",
        "test_outputs_ce_prob = model_ce_prob(torch.from_numpy(test_data))\n",
        "prob_ce_prob = F.softmax(test_outputs_ce_prob)\n",
        "consistency_ce_prob =test_gt_probs-prob_ce_prob[:,0]\n",
        "print(consistency_ce_prob.abs().mean())"
      ]
    },
    {
      "cell_type": "code",
      "execution_count": 80,
      "metadata": {},
      "outputs": [
        {
          "name": "stdout",
          "output_type": "stream",
          "text": [
            "Accuracy: 1.0000\n",
            "Accuracy: 1.0000\n"
          ]
        }
      ],
      "source": [
        "# generate a test dataset from the distribution\n",
        "test_data, test_labels = mog_data.sample_data(num_samples=10000)\n",
        "test_data = torch.from_numpy(test_data).cuda()\n",
        "test_labels = torch.from_numpy(test_labels).long().cuda()\n",
        "\n",
        "# get the prediction \n",
        "test_outputs_ce = model_ce(test_data)\n",
        "test_pred_probs_ce = torch.max(F.softmax(test_outputs_ce, dim=1), dim=1)[0]\n",
        "test_pred_labels_ce = torch.max(test_outputs_ce, dim=1)[1]\n",
        "\n",
        "test_outputs_ce_prob = model_ce_prob(test_data)\n",
        "test_pred_probs_ce_prob = torch.max(F.softmax(test_outputs_ce_prob, dim=1), dim=1)[0]\n",
        "test_pred_labels_ce_prob = torch.max(test_outputs_ce_prob, dim=1)[1]\n",
        "\n",
        "accuracy_ce = (test_pred_labels_ce == test_labels).float().mean().item()\n",
        "accuracy_ce_prob = (test_pred_labels_ce_prob == test_labels).float().mean().item()\n",
        "print(f\"Accuracy: {accuracy_ce:.4f}\")\n",
        "print(f\"Accuracy: {accuracy_ce_prob:.4f}\")"
      ]
    },
    {
      "cell_type": "code",
      "execution_count": null,
      "metadata": {},
      "outputs": [],
      "source": []
    },
    {
      "cell_type": "code",
      "execution_count": null,
      "metadata": {
        "colab": {
          "base_uri": "https://localhost:8080/"
        },
        "id": "zMKn-ya_Jg1Y",
        "outputId": "1652dd3a-bc6e-456f-9c94-719d2636da41"
      },
      "outputs": [],
      "source": [
        "def generate_mesh(min_x, max_x, min_y, max_y, num_x, num_y):\n",
        "  # Define the range of x and y values\n",
        "  x_range = np.linspace(-5, 5, num_x)\n",
        "  y_range = np.linspace(-5, 5, num_y)\n",
        "\n",
        "  # Generate the grid of points\n",
        "  X, Y = np.meshgrid(x_range, y_range)\n",
        "  print(X.shape)\n",
        "  print(Y.shape)\n",
        "\n",
        "  mesh = np.stack((X.reshape(-1),Y.reshape(-1)), axis=1)\n",
        "  print(mesh.shape)\n",
        "  return mesh\n",
        "\n",
        "min_x = min_y = -500\n",
        "max_x = max_y = 500\n",
        "num_x = num_y = 101\n",
        "\n",
        "mesh_np = generate_mesh(min_x=min_x, max_x=max_x, min_y=min_y, max_y=max_y, num_x=num_x, num_y=num_y).astype(np.float32)\n",
        "\n",
        "inputs = torch.from_numpy(mesh_np)\n",
        "outputs = model_ce(inputs)\n",
        "pred_probs = F.softmax(outputs)[:, 0].detach().numpy()\n",
        "print(mesh_np.shape)\n",
        "print(mesh_np[100])\n",
        "gt_probs = mog_data.compute_likelihood_ratio(mesh_np)\n"
      ]
    },
    {
      "cell_type": "code",
      "execution_count": null,
      "metadata": {},
      "outputs": [],
      "source": []
    },
    {
      "cell_type": "code",
      "execution_count": null,
      "metadata": {},
      "outputs": [],
      "source": [
        "def set_seed(seed):\n",
        "  random.seed(seed)\n",
        "  np.random.seed(seed)\n",
        "  torch.manual_seed(seed)\n",
        "  torch.cuda.manual_seed(seed)\n",
        "  torch.cuda.manual_seed_all(seed)\n",
        "  torch.backends.cudnn.deterministic = True\n",
        "  torch.backends.cudnn.benchmark = False\n",
        "\n",
        "# set_seed(18222)\n",
        "\n",
        "\n",
        "# Select points with probabilities between 0.8 and 0.85, give back the indices\n",
        "selected_indices = torch.where((test_pred_probs > 0.7) & (test_pred_probs < 0.85))\n",
        "# selected_indices = torch.where(test_pred_probs > 0.0)\n",
        "\n",
        "# randomly sample 1 number from the selected indices\n",
        "poi_index = random.choice(selected_indices[0].numpy())\n",
        "poi_data = test_data[poi_index]\n",
        "poi_label = test_labels[poi_index]\n",
        "poi_pred_prob = test_pred_probs[poi_index]\n",
        "poi_pred_label = test_pred_labels[poi_index]\n",
        "\n",
        "# compute the likelihood ratio for the poi_data\n",
        "poi_gt_prob = mog_data.compute_likelihood_ratio(poi_data) if poi_pred_label == 0 else 1 - mog_data.compute_likelihood_ratio(poi_data)\n",
        "\n",
        "print(f\"The POI is {poi_data} with label {poi_label} and prediction probability {poi_pred_prob} and prediction label {poi_pred_label}\")\n",
        "print(f\"The ground truth probability of the POI is {poi_gt_prob}\")\n",
        "\n",
        "# get the points with confidence around poi_pred_prob less than 0.01\n",
        "confidence_gap = 0.03\n",
        "confidence_high_threshold = poi_pred_prob + confidence_gap/2\n",
        "confidence_low_threshold = poi_pred_prob - confidence_gap/2\n",
        "# get the indices of the points with confidence around poi_pred_prob less than 0.01\n",
        "confidence_indices = torch.where((test_pred_probs > confidence_low_threshold) & (test_pred_probs < confidence_high_threshold))\n",
        "calibration_error_acc = (test_pred_labels[confidence_indices] == test_labels[confidence_indices]).sum()/len(confidence_indices[0])\n",
        "print(f\"The accuracy of the {len(confidence_indices[0])} points with confidence gap {confidence_gap} around point of interest {poi_pred_prob} is {calibration_error_acc}\")\n",
        "print(f\"The gap between the accuracy and the ground truth probability of the POI is {abs(calibration_error_acc - poi_gt_prob)}\")\n",
        "\n",
        "\n",
        "eps = 0.61\n",
        "poi_data_around = poi_data + np.random.uniform(-eps, eps, size=(1000,) + poi_data.shape)\n",
        "\n",
        "# calculate the predicted label of these neighboring points\n",
        "output_labels_around = model(torch.from_numpy(poi_data_around).float())\n",
        "pred_labels_around = torch.max(output_labels_around, dim=1)[1]\n",
        "pred_labels_conf = torch.max(F.softmax(output_labels_around, dim=1), dim=1)[0]\n",
        "\n",
        "\n",
        "aggregation_result = pred_labels_around.sum()/len(pred_labels_around)\n",
        "aggregation_result = max(aggregation_result.item(), 1 - aggregation_result.item())\n",
        "print(f\"The consistency eps: {eps:.2f}, pred_labels_around: {aggregation_result}\")\n",
        "print(f\"The gap between the consistency (eps={eps:.2f}) and the ground truth probability of the POI is {abs(aggregation_result - poi_gt_prob)}\")\n"
      ]
    },
    {
      "cell_type": "code",
      "execution_count": null,
      "metadata": {},
      "outputs": [],
      "source": [
        "for i in range(1000):\n",
        "    # sample 1000 points around the poi_data, the distance is sampled from a uniform distribution between 0 and 0.1\n",
        "    eps = i/1000\n",
        "    poi_data_around = poi_data + np.random.uniform(-eps, eps, size=(1000,) + poi_data.shape)\n",
        "\n",
        "    # calculate the predicted label of these neighboring points\n",
        "    output_labels_around = model(torch.from_numpy(poi_data_around).float())\n",
        "    pred_labels_around = torch.max(output_labels_around, dim=1)[1]\n",
        "    pred_labels_conf = torch.max(F.softmax(output_labels_around), dim=1)[0]\n",
        "\n",
        "    \n",
        "    aggregation_result = pred_labels_around.sum()/len(pred_labels_around)\n",
        "    print(\"eps: \", eps, \"pred_labels_around: \", aggregation_result if aggregation_result > 0.5 else 1 - aggregation_result)"
      ]
    },
    {
      "cell_type": "code",
      "execution_count": null,
      "metadata": {
        "colab": {
          "base_uri": "https://localhost:8080/",
          "height": 258
        },
        "id": "KAzqe7rA7jjG",
        "outputId": "dc38d16b-b282-4bfc-cbaf-ad10d48b3ba0"
      },
      "outputs": [],
      "source": [
        "fig, ax = plt.subplots()\n",
        "im = ax.imshow(np.flip(pred_probs.reshape(num_x, num_y), axis=0),cmap='jet')\n",
        "cbar = fig.colorbar(im)\n",
        "cbar.set_ticks([0,.25,.5,.75,1])\n",
        "cbar.set_ticklabels([0,.25,.5,.75,1])\n",
        "cbar.outline.set_linewidth(0)\n",
        "ax.axis(False)\n",
        "plt.show()"
      ]
    },
    {
      "cell_type": "code",
      "execution_count": null,
      "metadata": {
        "colab": {
          "base_uri": "https://localhost:8080/",
          "height": 258
        },
        "id": "_-yuG-NE9PLs",
        "outputId": "7ffedf51-23a1-4cff-cb9d-762437ed0b03"
      },
      "outputs": [],
      "source": [
        "fig, ax = plt.subplots()\n",
        "im = ax.imshow(np.flip(gt_probs.reshape(num_x, num_y), axis=0),cmap='jet')\n",
        "cbar = fig.colorbar(im)\n",
        "cbar.set_ticks([0,.25,.5,.75,1])\n",
        "cbar.set_ticklabels([0,.25,.5,.75,1])\n",
        "cbar.outline.set_linewidth(0)\n",
        "ax.axis(False)\n",
        "plt.show()"
      ]
    },
    {
      "cell_type": "code",
      "execution_count": null,
      "metadata": {
        "colab": {
          "base_uri": "https://localhost:8080/",
          "height": 248
        },
        "id": "EpHNkW4RAGW0",
        "outputId": "0fae517a-1d05-41a1-8a94-32827fe15150"
      },
      "outputs": [],
      "source": [
        "fig, ax = plt.subplots()\n",
        "im = ax.imshow(np.flip((pred_probs-gt_probs).reshape(num_x, num_y), axis=0),cmap='hsv')\n",
        "cbar = fig.colorbar(im)\n",
        "cbar.set_ticks([-.2, -.1, 0,.1, .2])\n",
        "cbar.set_ticklabels([-.2, -.1, 0,.1, .2])\n",
        "cbar.outline.set_linewidth(0)\n",
        "ax.axis(False)\n",
        "plt.show()"
      ]
    },
    {
      "cell_type": "code",
      "execution_count": null,
      "metadata": {
        "id": "oTlojbevH8We"
      },
      "outputs": [],
      "source": []
    }
  ],
  "metadata": {
    "colab": {
      "provenance": []
    },
    "kernelspec": {
      "display_name": "Python 3 (ipykernel)",
      "language": "python",
      "name": "python3"
    },
    "language_info": {
      "codemirror_mode": {
        "name": "ipython",
        "version": 3
      },
      "file_extension": ".py",
      "mimetype": "text/x-python",
      "name": "python",
      "nbconvert_exporter": "python",
      "pygments_lexer": "ipython3",
      "version": "3.8.19"
    }
  },
  "nbformat": 4,
  "nbformat_minor": 0
}
